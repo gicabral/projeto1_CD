{
 "cells": [
  {
   "cell_type": "markdown",
   "metadata": {},
   "source": [
    "# Projeto 1 - Ciência dos dados\n",
    "\n",
    "### Giovanna Sardella Cabral | 2A Engenharia\n",
    "\n",
    "** Pergunta:** Existem dois possíveis fatores para ter maior número de bilionários: o país é rico e por isso tem mais bilionários ou o país tem muita desigualdade social e IDH baixo, tendo muitos bilionários e muitos pobres. Além disso, acredita-se que países com maior taxa de inflação tenham IDH menor. Assim, a inflação e o número de bilionários tem influência ou não no IDH de um país?"
   ]
  },
  {
   "cell_type": "markdown",
   "metadata": {},
   "source": [
    "# IDH, Inflação e número de bilionários\n",
    "Foram coletados 3 dados do site https://www.gapminder.org/:\n",
    "1. IDH(índice de desenvolvimento humano)\n",
    "2. Inflação\n",
    "3. Número de bilionários a cada 1 milhão de pessoas\n",
    "\n",
    "Nesses dataframes, as linhas representam os países, as colunas representam o ano de 2007.\n",
    "No dataframe IDH criado a seguir, o conteúdo de cada célula é a medida do IDH de um determinado ano (coluna) para determinado país (linha).\n",
    "\n",
    "No dataframe inflation criado a seguir, o conteúdo de cada célula é a medida da inflação de um determinado ano (coluna) para um determinado país (linha). \n",
    "\n",
    "No dataframe billionaires criado a seguir, o conteúdo de cada célula é o número de bilionários de um determinado ano (coluna) para um determinado país (linha). \n",
    "\n"
   ]
  },
  {
   "cell_type": "markdown",
   "metadata": {},
   "source": [
    "# Introdução\n",
    "O intuito desse projeto é analisar outros fatores que não caracterizam o IDH diretamente e observar se existe uma correlação entre estes e o IDH. Consequentemente, será possível identificar se a inflação e o número de bilionários interferem no IDH. \n",
    "O senso comum faz com que parte da população acredite que quanto menor o índice de desenvolvimento humano, maior a inflação e quanto menor o número de bilionários em um país, menor o IDH. Assim, o estudo e análise desses dados tem como objetivo verificar se isto é realmente verdaderiro. \n",
    "\n",
    "Acredito que os países que tiverem menor IDH terão menor número de bilionários e maior taxa de inflação. Portanto, resolvi investigar a relação do IDH com a inflação e o número de bilionários, pois acho que quando a taxa de inflação sobe deveria diminuir o IDH de um país, assim como o aumento do IDH deveria aumentar o número de bilionários em um país.  "
   ]
  },
  {
   "cell_type": "markdown",
   "metadata": {},
   "source": [
    "# Leitura dos arquivos e mudanças de índices"
   ]
  },
  {
   "cell_type": "code",
   "execution_count": 607,
   "metadata": {},
   "outputs": [],
   "source": [
    "%matplotlib inline\n",
    "import pandas as pd\n",
    "import numpy as np\n",
    "import math as math\n",
    "from scipy import stats\n",
    "import matplotlib.pyplot as plt\n",
    "import seaborn as sns"
   ]
  },
  {
   "cell_type": "code",
   "execution_count": 608,
   "metadata": {},
   "outputs": [],
   "source": [
    "#Leitura dos arquivos em Excel\n",
    "IDH = pd.read_excel('hdi_human_development_index.xlsx')\n",
    "inflation = pd.read_excel('inflation_annual_percent.xlsx')\n",
    "billionaires = pd.read_excel('dollar_billionaires.xlsx')"
   ]
  },
  {
   "cell_type": "markdown",
   "metadata": {},
   "source": [
    "# IDH\n",
    "É possível verificar que cada linha representa um país e as colunas representam o ano de 2007"
   ]
  },
  {
   "cell_type": "code",
   "execution_count": 609,
   "metadata": {},
   "outputs": [
    {
     "data": {
      "text/html": [
       "<div>\n",
       "<style scoped>\n",
       "    .dataframe tbody tr th:only-of-type {\n",
       "        vertical-align: middle;\n",
       "    }\n",
       "\n",
       "    .dataframe tbody tr th {\n",
       "        vertical-align: top;\n",
       "    }\n",
       "\n",
       "    .dataframe thead th {\n",
       "        text-align: right;\n",
       "    }\n",
       "</style>\n",
       "<table border=\"1\" class=\"dataframe\">\n",
       "  <thead>\n",
       "    <tr style=\"text-align: right;\">\n",
       "      <th></th>\n",
       "      <th>País</th>\n",
       "      <th>IDH em 2007</th>\n",
       "    </tr>\n",
       "  </thead>\n",
       "  <tbody>\n",
       "    <tr>\n",
       "      <th>0</th>\n",
       "      <td>Afghanistan</td>\n",
       "      <td>0.433</td>\n",
       "    </tr>\n",
       "    <tr>\n",
       "      <th>1</th>\n",
       "      <td>Albania</td>\n",
       "      <td>0.713</td>\n",
       "    </tr>\n",
       "    <tr>\n",
       "      <th>2</th>\n",
       "      <td>Algeria</td>\n",
       "      <td>0.697</td>\n",
       "    </tr>\n",
       "    <tr>\n",
       "      <th>3</th>\n",
       "      <td>Andorra</td>\n",
       "      <td>NaN</td>\n",
       "    </tr>\n",
       "  </tbody>\n",
       "</table>\n",
       "</div>"
      ],
      "text/plain": [
       "          País  IDH em 2007\n",
       "0  Afghanistan        0.433\n",
       "1      Albania        0.713\n",
       "2      Algeria        0.697\n",
       "3      Andorra          NaN"
      ]
     },
     "execution_count": 609,
     "metadata": {},
     "output_type": "execute_result"
    }
   ],
   "source": [
    "IDH = IDH.loc[:, [\"geo\", 2007]]\n",
    "IDH= IDH.rename(columns = {'geo':'País', 2007:'IDH em 2007'})\n",
    "IDH.head(4)\n"
   ]
  },
  {
   "cell_type": "markdown",
   "metadata": {},
   "source": [
    "# Inflação\n",
    "É possível verificar que cada linha representa um país e as colunas representam o ano de 2007"
   ]
  },
  {
   "cell_type": "code",
   "execution_count": 610,
   "metadata": {},
   "outputs": [
    {
     "data": {
      "text/html": [
       "<div>\n",
       "<style scoped>\n",
       "    .dataframe tbody tr th:only-of-type {\n",
       "        vertical-align: middle;\n",
       "    }\n",
       "\n",
       "    .dataframe tbody tr th {\n",
       "        vertical-align: top;\n",
       "    }\n",
       "\n",
       "    .dataframe thead th {\n",
       "        text-align: right;\n",
       "    }\n",
       "</style>\n",
       "<table border=\"1\" class=\"dataframe\">\n",
       "  <thead>\n",
       "    <tr style=\"text-align: right;\">\n",
       "      <th></th>\n",
       "      <th>País</th>\n",
       "      <th>Inflação em 2007</th>\n",
       "    </tr>\n",
       "  </thead>\n",
       "  <tbody>\n",
       "    <tr>\n",
       "      <th>0</th>\n",
       "      <td>Afghanistan</td>\n",
       "      <td>22.40</td>\n",
       "    </tr>\n",
       "    <tr>\n",
       "      <th>1</th>\n",
       "      <td>Albania</td>\n",
       "      <td>3.58</td>\n",
       "    </tr>\n",
       "    <tr>\n",
       "      <th>2</th>\n",
       "      <td>Algeria</td>\n",
       "      <td>6.42</td>\n",
       "    </tr>\n",
       "    <tr>\n",
       "      <th>3</th>\n",
       "      <td>Andorra</td>\n",
       "      <td>3.87</td>\n",
       "    </tr>\n",
       "  </tbody>\n",
       "</table>\n",
       "</div>"
      ],
      "text/plain": [
       "          País  Inflação em 2007\n",
       "0  Afghanistan             22.40\n",
       "1      Albania              3.58\n",
       "2      Algeria              6.42\n",
       "3      Andorra              3.87"
      ]
     },
     "execution_count": 610,
     "metadata": {},
     "output_type": "execute_result"
    }
   ],
   "source": [
    "inflation = inflation.loc[:, [\"geo\", 2007]]\n",
    "inflation = inflation.rename(columns = {'geo':'País', 2007:'Inflação em 2007'})\n",
    "inflation.head(4)\n"
   ]
  },
  {
   "cell_type": "markdown",
   "metadata": {},
   "source": [
    "# Número de bilionários a cada 1 milhão de pessoas\n",
    "É possível verificar que cada linha representa um país e as colunas representam o ano de 2007"
   ]
  },
  {
   "cell_type": "code",
   "execution_count": 611,
   "metadata": {},
   "outputs": [
    {
     "data": {
      "text/html": [
       "<div>\n",
       "<style scoped>\n",
       "    .dataframe tbody tr th:only-of-type {\n",
       "        vertical-align: middle;\n",
       "    }\n",
       "\n",
       "    .dataframe tbody tr th {\n",
       "        vertical-align: top;\n",
       "    }\n",
       "\n",
       "    .dataframe thead th {\n",
       "        text-align: right;\n",
       "    }\n",
       "</style>\n",
       "<table border=\"1\" class=\"dataframe\">\n",
       "  <thead>\n",
       "    <tr style=\"text-align: right;\">\n",
       "      <th></th>\n",
       "      <th>País</th>\n",
       "      <th>Bilionários em 2007</th>\n",
       "    </tr>\n",
       "  </thead>\n",
       "  <tbody>\n",
       "    <tr>\n",
       "      <th>6</th>\n",
       "      <td>Argentina</td>\n",
       "      <td>0.02480</td>\n",
       "    </tr>\n",
       "    <tr>\n",
       "      <th>8</th>\n",
       "      <td>Australia</td>\n",
       "      <td>0.58700</td>\n",
       "    </tr>\n",
       "    <tr>\n",
       "      <th>9</th>\n",
       "      <td>Austria</td>\n",
       "      <td>0.36600</td>\n",
       "    </tr>\n",
       "    <tr>\n",
       "      <th>16</th>\n",
       "      <td>Belgium</td>\n",
       "      <td>0.19300</td>\n",
       "    </tr>\n",
       "    <tr>\n",
       "      <th>23</th>\n",
       "      <td>Brazil</td>\n",
       "      <td>0.10500</td>\n",
       "    </tr>\n",
       "    <tr>\n",
       "      <th>30</th>\n",
       "      <td>Canada</td>\n",
       "      <td>0.68900</td>\n",
       "    </tr>\n",
       "    <tr>\n",
       "      <th>34</th>\n",
       "      <td>Chile</td>\n",
       "      <td>0.18400</td>\n",
       "    </tr>\n",
       "    <tr>\n",
       "      <th>35</th>\n",
       "      <td>China</td>\n",
       "      <td>0.01520</td>\n",
       "    </tr>\n",
       "    <tr>\n",
       "      <th>36</th>\n",
       "      <td>Colombia</td>\n",
       "      <td>0.04520</td>\n",
       "    </tr>\n",
       "    <tr>\n",
       "      <th>44</th>\n",
       "      <td>Cyprus</td>\n",
       "      <td>2.54000</td>\n",
       "    </tr>\n",
       "    <tr>\n",
       "      <th>45</th>\n",
       "      <td>Czech Republic</td>\n",
       "      <td>0.09780</td>\n",
       "    </tr>\n",
       "    <tr>\n",
       "      <th>46</th>\n",
       "      <td>Denmark</td>\n",
       "      <td>0.36600</td>\n",
       "    </tr>\n",
       "    <tr>\n",
       "      <th>51</th>\n",
       "      <td>Egypt</td>\n",
       "      <td>0.04980</td>\n",
       "    </tr>\n",
       "    <tr>\n",
       "      <th>59</th>\n",
       "      <td>France</td>\n",
       "      <td>0.24600</td>\n",
       "    </tr>\n",
       "    <tr>\n",
       "      <th>63</th>\n",
       "      <td>Germany</td>\n",
       "      <td>0.66700</td>\n",
       "    </tr>\n",
       "    <tr>\n",
       "      <th>65</th>\n",
       "      <td>Greece</td>\n",
       "      <td>0.09340</td>\n",
       "    </tr>\n",
       "    <tr>\n",
       "      <th>75</th>\n",
       "      <td>Iceland</td>\n",
       "      <td>6.62000</td>\n",
       "    </tr>\n",
       "    <tr>\n",
       "      <th>76</th>\n",
       "      <td>India</td>\n",
       "      <td>0.03240</td>\n",
       "    </tr>\n",
       "    <tr>\n",
       "      <th>77</th>\n",
       "      <td>Indonesia</td>\n",
       "      <td>0.00895</td>\n",
       "    </tr>\n",
       "    <tr>\n",
       "      <th>80</th>\n",
       "      <td>Ireland</td>\n",
       "      <td>0.97400</td>\n",
       "    </tr>\n",
       "    <tr>\n",
       "      <th>81</th>\n",
       "      <td>Israel</td>\n",
       "      <td>1.40000</td>\n",
       "    </tr>\n",
       "    <tr>\n",
       "      <th>82</th>\n",
       "      <td>Italy</td>\n",
       "      <td>0.22400</td>\n",
       "    </tr>\n",
       "    <tr>\n",
       "      <th>84</th>\n",
       "      <td>Japan</td>\n",
       "      <td>0.18800</td>\n",
       "    </tr>\n",
       "    <tr>\n",
       "      <th>86</th>\n",
       "      <td>Kazakhstan</td>\n",
       "      <td>0.32700</td>\n",
       "    </tr>\n",
       "    <tr>\n",
       "      <th>89</th>\n",
       "      <td>Kuwait</td>\n",
       "      <td>1.60000</td>\n",
       "    </tr>\n",
       "    <tr>\n",
       "      <th>93</th>\n",
       "      <td>Lebanon</td>\n",
       "      <td>1.02000</td>\n",
       "    </tr>\n",
       "    <tr>\n",
       "      <th>103</th>\n",
       "      <td>Malaysia</td>\n",
       "      <td>0.36300</td>\n",
       "    </tr>\n",
       "    <tr>\n",
       "      <th>110</th>\n",
       "      <td>Mexico</td>\n",
       "      <td>0.09200</td>\n",
       "    </tr>\n",
       "    <tr>\n",
       "      <th>113</th>\n",
       "      <td>Monaco</td>\n",
       "      <td>30.60000</td>\n",
       "    </tr>\n",
       "    <tr>\n",
       "      <th>122</th>\n",
       "      <td>Netherlands</td>\n",
       "      <td>0.24100</td>\n",
       "    </tr>\n",
       "    <tr>\n",
       "      <th>123</th>\n",
       "      <td>New Zealand</td>\n",
       "      <td>0.72900</td>\n",
       "    </tr>\n",
       "    <tr>\n",
       "      <th>128</th>\n",
       "      <td>Norway</td>\n",
       "      <td>0.86400</td>\n",
       "    </tr>\n",
       "    <tr>\n",
       "      <th>129</th>\n",
       "      <td>Oman</td>\n",
       "      <td>0.31200</td>\n",
       "    </tr>\n",
       "    <tr>\n",
       "      <th>137</th>\n",
       "      <td>Philippines</td>\n",
       "      <td>0.03290</td>\n",
       "    </tr>\n",
       "    <tr>\n",
       "      <th>138</th>\n",
       "      <td>Poland</td>\n",
       "      <td>0.13000</td>\n",
       "    </tr>\n",
       "    <tr>\n",
       "      <th>139</th>\n",
       "      <td>Portugal</td>\n",
       "      <td>0.09400</td>\n",
       "    </tr>\n",
       "    <tr>\n",
       "      <th>141</th>\n",
       "      <td>Romania</td>\n",
       "      <td>0.04490</td>\n",
       "    </tr>\n",
       "    <tr>\n",
       "      <th>142</th>\n",
       "      <td>Russia</td>\n",
       "      <td>0.37200</td>\n",
       "    </tr>\n",
       "    <tr>\n",
       "      <th>147</th>\n",
       "      <td>Saudi Arabia</td>\n",
       "      <td>0.47100</td>\n",
       "    </tr>\n",
       "    <tr>\n",
       "      <th>149</th>\n",
       "      <td>Serbia</td>\n",
       "      <td>0.09850</td>\n",
       "    </tr>\n",
       "    <tr>\n",
       "      <th>152</th>\n",
       "      <td>Singapore</td>\n",
       "      <td>0.87800</td>\n",
       "    </tr>\n",
       "    <tr>\n",
       "      <th>157</th>\n",
       "      <td>South Africa</td>\n",
       "      <td>0.06820</td>\n",
       "    </tr>\n",
       "    <tr>\n",
       "      <th>158</th>\n",
       "      <td>South Korea</td>\n",
       "      <td>0.20400</td>\n",
       "    </tr>\n",
       "    <tr>\n",
       "      <th>159</th>\n",
       "      <td>Spain</td>\n",
       "      <td>0.49400</td>\n",
       "    </tr>\n",
       "    <tr>\n",
       "      <th>167</th>\n",
       "      <td>Sweden</td>\n",
       "      <td>0.88600</td>\n",
       "    </tr>\n",
       "    <tr>\n",
       "      <th>168</th>\n",
       "      <td>Switzerland</td>\n",
       "      <td>1.06000</td>\n",
       "    </tr>\n",
       "    <tr>\n",
       "      <th>172</th>\n",
       "      <td>Thailand</td>\n",
       "      <td>0.04610</td>\n",
       "    </tr>\n",
       "    <tr>\n",
       "      <th>178</th>\n",
       "      <td>Turkey</td>\n",
       "      <td>0.35100</td>\n",
       "    </tr>\n",
       "    <tr>\n",
       "      <th>182</th>\n",
       "      <td>Ukraine</td>\n",
       "      <td>0.15100</td>\n",
       "    </tr>\n",
       "    <tr>\n",
       "      <th>183</th>\n",
       "      <td>United Arab Emirates</td>\n",
       "      <td>1.89000</td>\n",
       "    </tr>\n",
       "    <tr>\n",
       "      <th>184</th>\n",
       "      <td>United Kingdom</td>\n",
       "      <td>0.47700</td>\n",
       "    </tr>\n",
       "    <tr>\n",
       "      <th>185</th>\n",
       "      <td>United States</td>\n",
       "      <td>1.38000</td>\n",
       "    </tr>\n",
       "    <tr>\n",
       "      <th>189</th>\n",
       "      <td>Venezuela</td>\n",
       "      <td>0.07670</td>\n",
       "    </tr>\n",
       "  </tbody>\n",
       "</table>\n",
       "</div>"
      ],
      "text/plain": [
       "                     País  Bilionários em 2007\n",
       "6               Argentina              0.02480\n",
       "8               Australia              0.58700\n",
       "9                 Austria              0.36600\n",
       "16                Belgium              0.19300\n",
       "23                 Brazil              0.10500\n",
       "30                 Canada              0.68900\n",
       "34                  Chile              0.18400\n",
       "35                  China              0.01520\n",
       "36               Colombia              0.04520\n",
       "44                 Cyprus              2.54000\n",
       "45         Czech Republic              0.09780\n",
       "46                Denmark              0.36600\n",
       "51                  Egypt              0.04980\n",
       "59                 France              0.24600\n",
       "63                Germany              0.66700\n",
       "65                 Greece              0.09340\n",
       "75                Iceland              6.62000\n",
       "76                  India              0.03240\n",
       "77              Indonesia              0.00895\n",
       "80                Ireland              0.97400\n",
       "81                 Israel              1.40000\n",
       "82                  Italy              0.22400\n",
       "84                  Japan              0.18800\n",
       "86             Kazakhstan              0.32700\n",
       "89                 Kuwait              1.60000\n",
       "93                Lebanon              1.02000\n",
       "103              Malaysia              0.36300\n",
       "110                Mexico              0.09200\n",
       "113                Monaco             30.60000\n",
       "122           Netherlands              0.24100\n",
       "123           New Zealand              0.72900\n",
       "128                Norway              0.86400\n",
       "129                  Oman              0.31200\n",
       "137           Philippines              0.03290\n",
       "138                Poland              0.13000\n",
       "139              Portugal              0.09400\n",
       "141               Romania              0.04490\n",
       "142                Russia              0.37200\n",
       "147          Saudi Arabia              0.47100\n",
       "149                Serbia              0.09850\n",
       "152             Singapore              0.87800\n",
       "157          South Africa              0.06820\n",
       "158           South Korea              0.20400\n",
       "159                 Spain              0.49400\n",
       "167                Sweden              0.88600\n",
       "168           Switzerland              1.06000\n",
       "172              Thailand              0.04610\n",
       "178                Turkey              0.35100\n",
       "182               Ukraine              0.15100\n",
       "183  United Arab Emirates              1.89000\n",
       "184        United Kingdom              0.47700\n",
       "185         United States              1.38000\n",
       "189             Venezuela              0.07670"
      ]
     },
     "execution_count": 611,
     "metadata": {},
     "output_type": "execute_result"
    }
   ],
   "source": [
    "billionaires = billionaires.loc[:, [\"geo\", 2007]]\n",
    "billionaires = billionaires.rename(columns = {'geo':'País', 2007:'Bilionários em 2007'})\n",
    "billionaires.head(10)\n",
    "billionaires_sem0 = billionaires[billionaires[\"Bilionários em 2007\"] != 0]\n",
    "billionaires_sem0"
   ]
  },
  {
   "cell_type": "markdown",
   "metadata": {},
   "source": [
    "** explicação: ** Para a análise dos dados com melhor coerência, os países que não têm bilionários foram retirados do dataframe billionaires"
   ]
  },
  {
   "cell_type": "markdown",
   "metadata": {},
   "source": [
    "# Inner join\n",
    "Aqui os três dados coletados estarão na mesma tabela."
   ]
  },
  {
   "cell_type": "code",
   "execution_count": 612,
   "metadata": {},
   "outputs": [
    {
     "data": {
      "text/html": [
       "<div>\n",
       "<style scoped>\n",
       "    .dataframe tbody tr th:only-of-type {\n",
       "        vertical-align: middle;\n",
       "    }\n",
       "\n",
       "    .dataframe tbody tr th {\n",
       "        vertical-align: top;\n",
       "    }\n",
       "\n",
       "    .dataframe thead th {\n",
       "        text-align: right;\n",
       "    }\n",
       "</style>\n",
       "<table border=\"1\" class=\"dataframe\">\n",
       "  <thead>\n",
       "    <tr style=\"text-align: right;\">\n",
       "      <th></th>\n",
       "      <th>IDH em 2007</th>\n",
       "      <th>Inflação em 2007</th>\n",
       "    </tr>\n",
       "    <tr>\n",
       "      <th>País</th>\n",
       "      <th></th>\n",
       "      <th></th>\n",
       "    </tr>\n",
       "  </thead>\n",
       "  <tbody>\n",
       "    <tr>\n",
       "      <th>Afghanistan</th>\n",
       "      <td>0.433</td>\n",
       "      <td>22.40</td>\n",
       "    </tr>\n",
       "    <tr>\n",
       "      <th>Albania</th>\n",
       "      <td>0.713</td>\n",
       "      <td>3.58</td>\n",
       "    </tr>\n",
       "    <tr>\n",
       "      <th>Algeria</th>\n",
       "      <td>0.697</td>\n",
       "      <td>6.42</td>\n",
       "    </tr>\n",
       "    <tr>\n",
       "      <th>Andorra</th>\n",
       "      <td>NaN</td>\n",
       "      <td>3.87</td>\n",
       "    </tr>\n",
       "    <tr>\n",
       "      <th>Angola</th>\n",
       "      <td>0.468</td>\n",
       "      <td>12.60</td>\n",
       "    </tr>\n",
       "    <tr>\n",
       "      <th>Antigua and Barbuda</th>\n",
       "      <td>0.786</td>\n",
       "      <td>3.74</td>\n",
       "    </tr>\n",
       "    <tr>\n",
       "      <th>Argentina</th>\n",
       "      <td>0.792</td>\n",
       "      <td>14.90</td>\n",
       "    </tr>\n",
       "    <tr>\n",
       "      <th>Armenia</th>\n",
       "      <td>0.721</td>\n",
       "      <td>4.23</td>\n",
       "    </tr>\n",
       "    <tr>\n",
       "      <th>Australia</th>\n",
       "      <td>0.921</td>\n",
       "      <td>4.98</td>\n",
       "    </tr>\n",
       "    <tr>\n",
       "      <th>Austria</th>\n",
       "      <td>0.864</td>\n",
       "      <td>2.33</td>\n",
       "    </tr>\n",
       "  </tbody>\n",
       "</table>\n",
       "</div>"
      ],
      "text/plain": [
       "                     IDH em 2007  Inflação em 2007\n",
       "País                                              \n",
       "Afghanistan                0.433             22.40\n",
       "Albania                    0.713              3.58\n",
       "Algeria                    0.697              6.42\n",
       "Andorra                      NaN              3.87\n",
       "Angola                     0.468             12.60\n",
       "Antigua and Barbuda        0.786              3.74\n",
       "Argentina                  0.792             14.90\n",
       "Armenia                    0.721              4.23\n",
       "Australia                  0.921              4.98\n",
       "Austria                    0.864              2.33"
      ]
     },
     "execution_count": 612,
     "metadata": {},
     "output_type": "execute_result"
    }
   ],
   "source": [
    "IDH_idx = IDH.set_index('País')\n",
    "inflation_idx = inflation.set_index('País')\n",
    "billionaires_idx=billionaires_sem0.set_index(\"País\")\n",
    "df = IDH_idx.join(inflation_idx, how='inner', lsuffix=' ', rsuffix=' ')\n",
    "df.head(10)"
   ]
  },
  {
   "cell_type": "code",
   "execution_count": 613,
   "metadata": {},
   "outputs": [
    {
     "data": {
      "text/html": [
       "<div>\n",
       "<style scoped>\n",
       "    .dataframe tbody tr th:only-of-type {\n",
       "        vertical-align: middle;\n",
       "    }\n",
       "\n",
       "    .dataframe tbody tr th {\n",
       "        vertical-align: top;\n",
       "    }\n",
       "\n",
       "    .dataframe thead th {\n",
       "        text-align: right;\n",
       "    }\n",
       "</style>\n",
       "<table border=\"1\" class=\"dataframe\">\n",
       "  <thead>\n",
       "    <tr style=\"text-align: right;\">\n",
       "      <th></th>\n",
       "      <th>IDH em 2007</th>\n",
       "      <th>Inflação em 2007</th>\n",
       "      <th>Bilionários em 2007</th>\n",
       "    </tr>\n",
       "    <tr>\n",
       "      <th>País</th>\n",
       "      <th></th>\n",
       "      <th></th>\n",
       "      <th></th>\n",
       "    </tr>\n",
       "  </thead>\n",
       "  <tbody>\n",
       "    <tr>\n",
       "      <th>Argentina</th>\n",
       "      <td>0.792</td>\n",
       "      <td>14.90</td>\n",
       "      <td>0.0248</td>\n",
       "    </tr>\n",
       "    <tr>\n",
       "      <th>Australia</th>\n",
       "      <td>0.921</td>\n",
       "      <td>4.98</td>\n",
       "      <td>0.5870</td>\n",
       "    </tr>\n",
       "    <tr>\n",
       "      <th>Austria</th>\n",
       "      <td>0.864</td>\n",
       "      <td>2.33</td>\n",
       "      <td>0.3660</td>\n",
       "    </tr>\n",
       "    <tr>\n",
       "      <th>Belgium</th>\n",
       "      <td>0.874</td>\n",
       "      <td>2.01</td>\n",
       "      <td>0.1930</td>\n",
       "    </tr>\n",
       "    <tr>\n",
       "      <th>Brazil</th>\n",
       "      <td>0.704</td>\n",
       "      <td>6.44</td>\n",
       "      <td>0.1050</td>\n",
       "    </tr>\n",
       "    <tr>\n",
       "      <th>Canada</th>\n",
       "      <td>0.897</td>\n",
       "      <td>3.32</td>\n",
       "      <td>0.6890</td>\n",
       "    </tr>\n",
       "    <tr>\n",
       "      <th>Chile</th>\n",
       "      <td>0.804</td>\n",
       "      <td>5.34</td>\n",
       "      <td>0.1840</td>\n",
       "    </tr>\n",
       "    <tr>\n",
       "      <th>China</th>\n",
       "      <td>0.672</td>\n",
       "      <td>7.81</td>\n",
       "      <td>0.0152</td>\n",
       "    </tr>\n",
       "    <tr>\n",
       "      <th>Colombia</th>\n",
       "      <td>0.683</td>\n",
       "      <td>5.04</td>\n",
       "      <td>0.0452</td>\n",
       "    </tr>\n",
       "    <tr>\n",
       "      <th>Cyprus</th>\n",
       "      <td>0.844</td>\n",
       "      <td>3.19</td>\n",
       "      <td>2.5400</td>\n",
       "    </tr>\n",
       "  </tbody>\n",
       "</table>\n",
       "</div>"
      ],
      "text/plain": [
       "           IDH em 2007  Inflação em 2007  Bilionários em 2007\n",
       "País                                                         \n",
       "Argentina        0.792             14.90               0.0248\n",
       "Australia        0.921              4.98               0.5870\n",
       "Austria          0.864              2.33               0.3660\n",
       "Belgium          0.874              2.01               0.1930\n",
       "Brazil           0.704              6.44               0.1050\n",
       "Canada           0.897              3.32               0.6890\n",
       "Chile            0.804              5.34               0.1840\n",
       "China            0.672              7.81               0.0152\n",
       "Colombia         0.683              5.04               0.0452\n",
       "Cyprus           0.844              3.19               2.5400"
      ]
     },
     "execution_count": 613,
     "metadata": {},
     "output_type": "execute_result"
    }
   ],
   "source": [
    "data = df.join(billionaires_idx, how=\"inner\")\n",
    "data.head(10)"
   ]
  },
  {
   "cell_type": "markdown",
   "metadata": {},
   "source": [
    "# Análise e explicação dos resultados\n",
    "Para a análise dos dados e melhor visualização desses, gráficos e outros recursos, como boxplot e histograma serão utilizados. "
   ]
  },
  {
   "cell_type": "code",
   "execution_count": 614,
   "metadata": {},
   "outputs": [],
   "source": [
    "def reta(dados_x, dados_y, nome_x = \"Eixo X\", nome_y = \"Eixo Y\"):    \n",
    "    a = dados_y.cov(dados_x) / dados_x.var()\n",
    "    b = dados_y.mean() - a*dados_x.mean()\n",
    "\n",
    "    print('Ajuste linear entre ',nome_x,'  e ',nome_y,':')\n",
    "    print('Coeficiente linear:', b)\n",
    "    print('Coeficiente angular:', a)\n",
    "\n",
    "    fig = plt.figure(figsize=(8, 6))\n",
    "    plt.scatter(dados_x, dados_y, c='red', alpha=0.8)\n",
    "    plt.title(nome_x + \" versus \"+ nome_y)\n",
    "    plt.xlabel(nome_x)\n",
    "    plt.ylabel(nome_y)\n",
    "\n",
    "    plt.plot((dados_x.min(), dados_x.max()), (a*dados_x.min()+b, a*dados_x.max()+b), color='blue')\n",
    "\n",
    "    plt.tight_layout()\n",
    "    plt.show()"
   ]
  },
  {
   "cell_type": "markdown",
   "metadata": {},
   "source": [
    "### Gráfico de dispersão sobre a Inflação em 2007 pelo IDH em 2007 ###"
   ]
  },
  {
   "cell_type": "code",
   "execution_count": 615,
   "metadata": {},
   "outputs": [
    {
     "data": {
      "image/png": "[encoded data removed]",
      "text/plain": [
       "<Figure size 432x288 with 1 Axes>"
      ]
     },
     "metadata": {},
     "output_type": "display_data"
    }
   ],
   "source": [
    "data.plot.scatter(x='Inflação em 2007',y='IDH em 2007');\n",
    "sns.regplot(data[\"Inflação em 2007\"],data[\"IDH em 2007\"], color=('turquoise'))\n",
    "plt.grid()"
   ]
  },
  {
   "cell_type": "markdown",
   "metadata": {},
   "source": [
    "** Correlação entre Inflação em 2007 e IDH em 2007 **"
   ]
  },
  {
   "cell_type": "code",
   "execution_count": 616,
   "metadata": {},
   "outputs": [
    {
     "name": "stdout",
     "output_type": "stream",
     "text": [
      "A correlação entre o IDH em 2007 e a inflação em 2007 é: -0.4702330603697849\n"
     ]
    },
    {
     "data": {
      "text/html": [
       "<div>\n",
       "<style scoped>\n",
       "    .dataframe tbody tr th:only-of-type {\n",
       "        vertical-align: middle;\n",
       "    }\n",
       "\n",
       "    .dataframe tbody tr th {\n",
       "        vertical-align: top;\n",
       "    }\n",
       "\n",
       "    .dataframe thead th {\n",
       "        text-align: right;\n",
       "    }\n",
       "</style>\n",
       "<table border=\"1\" class=\"dataframe\">\n",
       "  <thead>\n",
       "    <tr style=\"text-align: right;\">\n",
       "      <th></th>\n",
       "      <th>IDH em 2007</th>\n",
       "      <th>Inflação em 2007</th>\n",
       "    </tr>\n",
       "  </thead>\n",
       "  <tbody>\n",
       "    <tr>\n",
       "      <th>IDH em 2007</th>\n",
       "      <td>1.000000</td>\n",
       "      <td>-0.470233</td>\n",
       "    </tr>\n",
       "    <tr>\n",
       "      <th>Inflação em 2007</th>\n",
       "      <td>-0.470233</td>\n",
       "      <td>1.000000</td>\n",
       "    </tr>\n",
       "  </tbody>\n",
       "</table>\n",
       "</div>"
      ],
      "text/plain": [
       "                  IDH em 2007  Inflação em 2007\n",
       "IDH em 2007          1.000000         -0.470233\n",
       "Inflação em 2007    -0.470233          1.000000"
      ]
     },
     "execution_count": 616,
     "metadata": {},
     "output_type": "execute_result"
    }
   ],
   "source": [
    "print('A correlação entre o IDH em 2007 e a inflação em 2007 é:', data['IDH em 2007'].corr(data['Inflação em 2007']))\n",
    "data.loc[:,[\"IDH em 2007\", \"Inflação em 2007\"]].corr()\n"
   ]
  },
  {
   "cell_type": "markdown",
   "metadata": {},
   "source": [
    "#### Análise ####\n",
    "A partir do valor r=-0.4702 de correlação entre o IDH em 2007 e a inflação em 2007, verificado na tabela, observa-se uma assosiação negativa moderada entre inflação e IDH. É possível confirmar isto observando o gráfico de dispersão. Como conseguinte, foi possível verificar que o conhecimento prévio de que a inflação influencia significantemente no IDH de um país não é totalmente verdadadeira, porque o índice de correlação não é tão alto como acreditam."
   ]
  },
  {
   "cell_type": "markdown",
   "metadata": {},
   "source": [
    "### Gráfico de dispersão sobre o número de bilionários em 2007 pelo IDH em 2007 ###"
   ]
  },
  {
   "cell_type": "code",
   "execution_count": 617,
   "metadata": {},
   "outputs": [
    {
     "data": {
      "image/png": "[encoded data removed]",
      "text/plain": [
       "<Figure size 432x288 with 1 Axes>"
      ]
     },
     "metadata": {},
     "output_type": "display_data"
    }
   ],
   "source": [
    "data.plot.scatter(x=\"Bilionários em 2007\",y='IDH em 2007');\n",
    "sns.regplot(data[\"Bilionários em 2007\"],data[\"IDH em 2007\"], color=('indigo'))\n",
    "plt.grid()"
   ]
  },
  {
   "cell_type": "markdown",
   "metadata": {},
   "source": [
    "** Correlação entre Bilionários em 2007 e IDH em 2007 **"
   ]
  },
  {
   "cell_type": "code",
   "execution_count": 618,
   "metadata": {},
   "outputs": [
    {
     "name": "stdout",
     "output_type": "stream",
     "text": [
      "A correlação entre o IDH em 2007 e o número de bilionários em 2007 é: 0.338615711000053\n"
     ]
    },
    {
     "data": {
      "text/html": [
       "<div>\n",
       "<style scoped>\n",
       "    .dataframe tbody tr th:only-of-type {\n",
       "        vertical-align: middle;\n",
       "    }\n",
       "\n",
       "    .dataframe tbody tr th {\n",
       "        vertical-align: top;\n",
       "    }\n",
       "\n",
       "    .dataframe thead th {\n",
       "        text-align: right;\n",
       "    }\n",
       "</style>\n",
       "<table border=\"1\" class=\"dataframe\">\n",
       "  <thead>\n",
       "    <tr style=\"text-align: right;\">\n",
       "      <th></th>\n",
       "      <th>IDH em 2007</th>\n",
       "      <th>Bilionários em 2007</th>\n",
       "    </tr>\n",
       "  </thead>\n",
       "  <tbody>\n",
       "    <tr>\n",
       "      <th>IDH em 2007</th>\n",
       "      <td>1.000000</td>\n",
       "      <td>0.338616</td>\n",
       "    </tr>\n",
       "    <tr>\n",
       "      <th>Bilionários em 2007</th>\n",
       "      <td>0.338616</td>\n",
       "      <td>1.000000</td>\n",
       "    </tr>\n",
       "  </tbody>\n",
       "</table>\n",
       "</div>"
      ],
      "text/plain": [
       "                     IDH em 2007  Bilionários em 2007\n",
       "IDH em 2007             1.000000             0.338616\n",
       "Bilionários em 2007     0.338616             1.000000"
      ]
     },
     "execution_count": 618,
     "metadata": {},
     "output_type": "execute_result"
    }
   ],
   "source": [
    "print('A correlação entre o IDH em 2007 e o número de bilionários em 2007 é:', data['IDH em 2007'].corr(data['Bilionários em 2007']))\n",
    "data.loc[:,[\"IDH em 2007\", \"Bilionários em 2007\"]].corr()"
   ]
  },
  {
   "cell_type": "markdown",
   "metadata": {},
   "source": [
    "#### Análise ####\n",
    "A partir do valor r=0.338615 de correlação entre o número de bilionários em 2007 e o IDH em 2007, verificado na tabela, observa-se uma assosiação positiva moderada entre número de bilionários e IDH. É possível confirmar isto observando o gráfico de dispersão. Como consequência, foi possível verificar que o conhecimento prévio de que quanto maior o IDH de um país, mais bilionários não é totalmente verdadadeira, porque o índice de correlação não é tão alto como acreditam. Portanto, é mais provável que vários países com alto número de bilionários tenham desiguladade social no país. \n",
    "\n",
    "No entanto, verifica-se que há um outlier que pode atrapalhar na análise dos dados. Assim, para aprimorar o resultado tirei os dois outliers que estavam alterando a análise dos dados. Esses dois outliers são os países Mônaco e Islândia, os quais têm muitos bilionários e poucos habitantes, por isso que no calculo de quantos bilionários tem em um país, a cada 1 milhão de pessoas, Monaco ficou com 30.6 bilionários enquanto Islândia ficou com 6.62. No entanto, os demais países ficaram com o número de bilionários em torno de 1, por isso o gráfico ficou com pontos muito próximos uns dos outros, enquanto alguns se distanciavam muito. \n"
   ]
  },
  {
   "cell_type": "code",
   "execution_count": 619,
   "metadata": {},
   "outputs": [
    {
     "name": "stdout",
     "output_type": "stream",
     "text": [
      "A correlação entre o IDH em 2007 e o número de bilionários em 2007 é: 0.43318689607331423\n"
     ]
    },
    {
     "data": {
      "image/png": "[encoded data removed]",
      "text/plain": [
       "<Figure size 432x288 with 1 Axes>"
      ]
     },
     "metadata": {},
     "output_type": "display_data"
    }
   ],
   "source": [
    "data_sem_monaco = data[data['Bilionários em 2007'] <= 3]\n",
    "data_sem_monaco.plot.scatter(x=\"Bilionários em 2007\",y='IDH em 2007');\n",
    "sns.regplot(data_sem_monaco[\"Bilionários em 2007\"],data_sem_monaco[\"IDH em 2007\"], color=('indigo'))\n",
    "plt.grid()\n",
    "\n",
    "print('A correlação entre o IDH em 2007 e o número de bilionários em 2007 é:', data_sem_monaco['IDH em 2007'].corr(data_sem_monaco['Bilionários em 2007']))\n"
   ]
  },
  {
   "cell_type": "markdown",
   "metadata": {},
   "source": [
    "** Análise dos dados sem Mônaco e Islândia: ** Com a retirada de Monaco e Islândia do dataframe verifica-se que ocorreu uma mudança no índice de correlação entre o IDH em 2007 e o número de bilionários em 2007, o qual ficou com o valor maior que o anterior e igual a r=0.4331. Assim, observa-se uma assosiação positiva moderada  entre número de bilionários e IDH. É possível confirmar isto observando o gráfico de dispersão."
   ]
  },
  {
   "cell_type": "markdown",
   "metadata": {},
   "source": [
    "### Gráfico de dispersão sobre o número de bilionários em 2007 pela inflação em 2007 ###"
   ]
  },
  {
   "cell_type": "code",
   "execution_count": 620,
   "metadata": {},
   "outputs": [
    {
     "data": {
      "image/png": "[encoded data removed]",
      "text/plain": [
       "<Figure size 432x288 with 1 Axes>"
      ]
     },
     "metadata": {},
     "output_type": "display_data"
    }
   ],
   "source": [
    "data.plot.scatter(x='Inflação em 2007',y='Bilionários em 2007');\n",
    "sns.regplot(data[\"Inflação em 2007\"],data[\"Bilionários em 2007\"], color=('goldenrod'))\n",
    "plt.grid()\n"
   ]
  },
  {
   "cell_type": "markdown",
   "metadata": {},
   "source": [
    "** Correlação entre Bilionários em 2007 e inflação em 2007 **"
   ]
  },
  {
   "cell_type": "code",
   "execution_count": 621,
   "metadata": {},
   "outputs": [
    {
     "name": "stdout",
     "output_type": "stream",
     "text": [
      "A correlação entre a inflação em 2007 e o número de bilionários em 2007 é: -0.1505400093040642\n"
     ]
    },
    {
     "data": {
      "text/html": [
       "<div>\n",
       "<style scoped>\n",
       "    .dataframe tbody tr th:only-of-type {\n",
       "        vertical-align: middle;\n",
       "    }\n",
       "\n",
       "    .dataframe tbody tr th {\n",
       "        vertical-align: top;\n",
       "    }\n",
       "\n",
       "    .dataframe thead th {\n",
       "        text-align: right;\n",
       "    }\n",
       "</style>\n",
       "<table border=\"1\" class=\"dataframe\">\n",
       "  <thead>\n",
       "    <tr style=\"text-align: right;\">\n",
       "      <th></th>\n",
       "      <th>Inflação em 2007</th>\n",
       "      <th>Bilionários em 2007</th>\n",
       "    </tr>\n",
       "  </thead>\n",
       "  <tbody>\n",
       "    <tr>\n",
       "      <th>Inflação em 2007</th>\n",
       "      <td>1.00000</td>\n",
       "      <td>-0.15054</td>\n",
       "    </tr>\n",
       "    <tr>\n",
       "      <th>Bilionários em 2007</th>\n",
       "      <td>-0.15054</td>\n",
       "      <td>1.00000</td>\n",
       "    </tr>\n",
       "  </tbody>\n",
       "</table>\n",
       "</div>"
      ],
      "text/plain": [
       "                     Inflação em 2007  Bilionários em 2007\n",
       "Inflação em 2007              1.00000             -0.15054\n",
       "Bilionários em 2007          -0.15054              1.00000"
      ]
     },
     "execution_count": 621,
     "metadata": {},
     "output_type": "execute_result"
    }
   ],
   "source": [
    "print('A correlação entre a inflação em 2007 e o número de bilionários em 2007 é:', data['Inflação em 2007'].corr(data['Bilionários em 2007']))\n",
    "data.loc[:,[\"Inflação em 2007\", \"Bilionários em 2007\"]].corr()"
   ]
  },
  {
   "cell_type": "markdown",
   "metadata": {},
   "source": [
    "#### Análise ####\n",
    "A partir do valor r=-0.15054 de correlação entre o número de bilionários em 2007 e a inflação em 2007, verificado na tabela, observa-se uma assosiação negativa baixa entre número de bilionários e a inflação. É possível confirmar isto observando o gráfico de dispersão. Como consequência, foi possível verificar que a inflação pouco influencia no número de bilionários em um país. \n",
    "\n",
    "Para melhorar a análise dos dados tirei Monaco e Islândia desse gráfico de dispersão também, para observar a mudança que isso traz para os dados\n"
   ]
  },
  {
   "cell_type": "code",
   "execution_count": 622,
   "metadata": {},
   "outputs": [
    {
     "name": "stdout",
     "output_type": "stream",
     "text": [
      "A correlação entre a Inflação em 2007 e o número de bilionários em 2007 é: -0.21438573905691444\n"
     ]
    },
    {
     "data": {
      "image/png": "[encoded data removed]",
      "text/plain": [
       "<Figure size 432x288 with 1 Axes>"
      ]
     },
     "metadata": {},
     "output_type": "display_data"
    }
   ],
   "source": [
    "data_sem_monaco.plot.scatter(x='Inflação em 2007',y='Bilionários em 2007');\n",
    "sns.regplot(data_sem_monaco[\"Inflação em 2007\"],data_sem_monaco[\"Bilionários em 2007\"], color=('goldenrod'))\n",
    "plt.grid()\n",
    "\n",
    "print('A correlação entre a Inflação em 2007 e o número de bilionários em 2007 é:', data_sem_monaco['Inflação em 2007'].corr(data_sem_monaco['Bilionários em 2007']))\n"
   ]
  },
  {
   "cell_type": "markdown",
   "metadata": {},
   "source": [
    "** Análise dos dados sem Mônaco e Islândia: ** Com a retirada de Mônaco e Islândia do dataframe verifica-se que ocorreu uma mudança no índice de correlação entre a Inflação em 2007 e o número de bilionários em 2007, o qual ficou com o valor mais próximo de -1 que o anterior e igual a r=-0.214. Assim, observa-se uma assosiação negativa baixa entre número de bilionários e a inflação. É possível confirmar isto observando o gráfico de dispersão."
   ]
  },
  {
   "cell_type": "markdown",
   "metadata": {},
   "source": [
    "### Boxplot e histograma do IDH em 2007 ###"
   ]
  },
  {
   "cell_type": "code",
   "execution_count": 623,
   "metadata": {},
   "outputs": [
    {
     "data": {
      "text/plain": [
       "<matplotlib.axes._subplots.AxesSubplot at 0x190202081d0>"
      ]
     },
     "execution_count": 623,
     "metadata": {},
     "output_type": "execute_result"
    },
    {
     "data": {
      "image/png": "[encoded data removed]",
      "text/plain": [
       "<Figure size 432x288 with 1 Axes>"
      ]
     },
     "metadata": {},
     "output_type": "display_data"
    }
   ],
   "source": [
    "data.loc[:, 'IDH em 2007'].plot.box()"
   ]
  },
  {
   "cell_type": "code",
   "execution_count": 624,
   "metadata": {},
   "outputs": [
    {
     "data": {
      "image/png": "[encoded data removed]",
      "text/plain": [
       "<Figure size 432x288 with 1 Axes>"
      ]
     },
     "metadata": {},
     "output_type": "display_data"
    }
   ],
   "source": [
    "data[\"IDH em 2007\"].plot.hist(density=True);"
   ]
  },
  {
   "cell_type": "markdown",
   "metadata": {},
   "source": [
    "** Análise: ** Verifica-se a partir do boxplot que não há nenhum ponto considerado extremo e que ocorre uma assimetria para a esquerda. É possível verificar isso com mais clareza ao observar o histograma. "
   ]
  },
  {
   "cell_type": "markdown",
   "metadata": {},
   "source": [
    "### Boxplot e histograma da inflação em 2007 ###"
   ]
  },
  {
   "cell_type": "code",
   "execution_count": 625,
   "metadata": {},
   "outputs": [
    {
     "data": {
      "text/plain": [
       "<matplotlib.axes._subplots.AxesSubplot at 0x19020eebc88>"
      ]
     },
     "execution_count": 625,
     "metadata": {},
     "output_type": "execute_result"
    },
    {
     "data": {
      "image/png": "[encoded data removed]",
      "text/plain": [
       "<Figure size 432x288 with 1 Axes>"
      ]
     },
     "metadata": {},
     "output_type": "display_data"
    }
   ],
   "source": [
    "data.loc[:, 'Inflação em 2007'].plot.box()"
   ]
  },
  {
   "cell_type": "code",
   "execution_count": 626,
   "metadata": {},
   "outputs": [
    {
     "data": {
      "image/png": "[encoded data removed]",
      "text/plain": [
       "<Figure size 432x288 with 1 Axes>"
      ]
     },
     "metadata": {},
     "output_type": "display_data"
    }
   ],
   "source": [
    "data[\"Inflação em 2007\"].plot.hist(density=True);"
   ]
  },
  {
   "cell_type": "markdown",
   "metadata": {},
   "source": [
    "** Análise: ** Verifica-se a partir do boxplot que há um ponto considerado extremo e que ocorre uma assimetria para a direita. É possível verificar isso com mais clareza ao observar o histograma. "
   ]
  },
  {
   "cell_type": "markdown",
   "metadata": {},
   "source": [
    "### Boxplot e histograma do número de bilionários em 2007 ###"
   ]
  },
  {
   "cell_type": "code",
   "execution_count": 627,
   "metadata": {},
   "outputs": [
    {
     "data": {
      "text/plain": [
       "<matplotlib.axes._subplots.AxesSubplot at 0x1902027cb38>"
      ]
     },
     "execution_count": 627,
     "metadata": {},
     "output_type": "execute_result"
    },
    {
     "data": {
      "image/png": "[encoded data removed]",
      "text/plain": [
       "<Figure size 432x288 with 1 Axes>"
      ]
     },
     "metadata": {},
     "output_type": "display_data"
    }
   ],
   "source": [
    "data.loc[:, 'Bilionários em 2007'].plot.box()"
   ]
  },
  {
   "cell_type": "code",
   "execution_count": 628,
   "metadata": {},
   "outputs": [
    {
     "data": {
      "image/png": "[encoded data removed]",
      "text/plain": [
       "<Figure size 432x288 with 1 Axes>"
      ]
     },
     "metadata": {},
     "output_type": "display_data"
    }
   ],
   "source": [
    "data[\"Bilionários em 2007\"].plot.hist(density=True);"
   ]
  },
  {
   "cell_type": "markdown",
   "metadata": {},
   "source": [
    "** Análise: ** Verifica-se a partir do boxplot que há 3 pontos considerados extremos, que seriam Monaco, Islândia e Chipre, e que ocorre uma assimetria para a direita. É possível verificar isso com mais clareza ao observar o histograma. "
   ]
  },
  {
   "cell_type": "markdown",
   "metadata": {},
   "source": [
    "# Evolução da análise temporalmente"
   ]
  },
  {
   "cell_type": "markdown",
   "metadata": {},
   "source": [
    "## 2008 ##"
   ]
  },
  {
   "cell_type": "markdown",
   "metadata": {},
   "source": [
    "### Dados ###"
   ]
  },
  {
   "cell_type": "code",
   "execution_count": 629,
   "metadata": {},
   "outputs": [],
   "source": [
    "IDH = pd.read_excel('hdi_human_development_index.xlsx')\n",
    "IDH = IDH.loc[:, [\"geo\", 2006]]\n",
    "IDH= IDH.rename(columns = {'geo':'País', 2006:'IDH em 2006'})\n",
    "inflation = pd.read_excel('inflation_annual_percent.xlsx')\n",
    "inflation = inflation.loc[:, [\"geo\", 2006]]\n",
    "inflation = inflation.rename(columns = {'geo':'País', 2006:'Inflação em 2006'})\n",
    "billionaires = pd.read_excel('dollar_billionaires.xlsx')\n",
    "billionaires = billionaires.loc[:, [\"geo\", 2006]]\n",
    "billionaires = billionaires.rename(columns = {'geo':'País', 2006:'Bilionários em 2006'})\n",
    "billionaires_sem0 = billionaires[billionaires[\"Bilionários em 2006\"] != 0]\n",
    "IDH_idx = IDH.set_index('País')\n",
    "inflation_idx = inflation.set_index('País')\n",
    "billionaires_idx=billionaires_sem0.set_index(\"País\")\n",
    "df = IDH_idx.join(inflation_idx, how='inner', lsuffix=' ', rsuffix=' ')\n",
    "data = df.join(billionaires_idx, how=\"inner\")"
   ]
  },
  {
   "cell_type": "markdown",
   "metadata": {},
   "source": [
    "### Gráfico de dispersão sobre a Inflação em 2006 pelo IDH em 2006###"
   ]
  },
  {
   "cell_type": "code",
   "execution_count": 630,
   "metadata": {},
   "outputs": [
    {
     "data": {
      "image/png": "[encoded data removed]",
      "text/plain": [
       "<Figure size 432x288 with 1 Axes>"
      ]
     },
     "metadata": {},
     "output_type": "display_data"
    }
   ],
   "source": [
    "data.plot.scatter(x='Inflação em 2006',y='IDH em 2006');\n",
    "sns.regplot(data[\"Inflação em 2006\"],data[\"IDH em 2006\"], color=('turquoise'))\n",
    "plt.grid()"
   ]
  },
  {
   "cell_type": "markdown",
   "metadata": {},
   "source": [
    "### Correlação entre IDH em 2006 e a Inflação em 2006 ###"
   ]
  },
  {
   "cell_type": "code",
   "execution_count": 631,
   "metadata": {},
   "outputs": [
    {
     "name": "stdout",
     "output_type": "stream",
     "text": [
      "A correlação entre o IDH em 2006 e a inflação em 2006 é: -0.41200417041432313\n"
     ]
    },
    {
     "data": {
      "text/html": [
       "<div>\n",
       "<style scoped>\n",
       "    .dataframe tbody tr th:only-of-type {\n",
       "        vertical-align: middle;\n",
       "    }\n",
       "\n",
       "    .dataframe tbody tr th {\n",
       "        vertical-align: top;\n",
       "    }\n",
       "\n",
       "    .dataframe thead th {\n",
       "        text-align: right;\n",
       "    }\n",
       "</style>\n",
       "<table border=\"1\" class=\"dataframe\">\n",
       "  <thead>\n",
       "    <tr style=\"text-align: right;\">\n",
       "      <th></th>\n",
       "      <th>IDH em 2006</th>\n",
       "      <th>Inflação em 2006</th>\n",
       "    </tr>\n",
       "  </thead>\n",
       "  <tbody>\n",
       "    <tr>\n",
       "      <th>IDH em 2006</th>\n",
       "      <td>1.000000</td>\n",
       "      <td>-0.412004</td>\n",
       "    </tr>\n",
       "    <tr>\n",
       "      <th>Inflação em 2006</th>\n",
       "      <td>-0.412004</td>\n",
       "      <td>1.000000</td>\n",
       "    </tr>\n",
       "  </tbody>\n",
       "</table>\n",
       "</div>"
      ],
      "text/plain": [
       "                  IDH em 2006  Inflação em 2006\n",
       "IDH em 2006          1.000000         -0.412004\n",
       "Inflação em 2006    -0.412004          1.000000"
      ]
     },
     "execution_count": 631,
     "metadata": {},
     "output_type": "execute_result"
    }
   ],
   "source": [
    "print('A correlação entre o IDH em 2006 e a inflação em 2006 é:', data['IDH em 2006'].corr(data['Inflação em 2006']))\n",
    "data.loc[:,[\"IDH em 2006\", \"Inflação em 2006\"]].corr()"
   ]
  },
  {
   "cell_type": "markdown",
   "metadata": {},
   "source": [
    "### Gráfico de dispersão sobre o número de bilionários em 2006 pelo IDH em 2006 ###"
   ]
  },
  {
   "cell_type": "code",
   "execution_count": 632,
   "metadata": {},
   "outputs": [
    {
     "data": {
      "image/png": "[encoded data removed]",
      "text/plain": [
       "<Figure size 432x288 with 1 Axes>"
      ]
     },
     "metadata": {},
     "output_type": "display_data"
    }
   ],
   "source": [
    "data.plot.scatter(x=\"Bilionários em 2006\",y='IDH em 2006');\n",
    "sns.regplot(data[\"Bilionários em 2006\"],data[\"IDH em 2006\"], color=('indigo'))\n",
    "plt.grid()"
   ]
  },
  {
   "cell_type": "markdown",
   "metadata": {},
   "source": [
    "#### Correlação entre IDH em 2006 e o número de bilionários em 2006 ####"
   ]
  },
  {
   "cell_type": "code",
   "execution_count": 633,
   "metadata": {},
   "outputs": [
    {
     "name": "stdout",
     "output_type": "stream",
     "text": [
      "A correlação entre o IDH em 2006 e o número de bilionários em 2006 é: 0.4326851046569824\n"
     ]
    },
    {
     "data": {
      "text/html": [
       "<div>\n",
       "<style scoped>\n",
       "    .dataframe tbody tr th:only-of-type {\n",
       "        vertical-align: middle;\n",
       "    }\n",
       "\n",
       "    .dataframe tbody tr th {\n",
       "        vertical-align: top;\n",
       "    }\n",
       "\n",
       "    .dataframe thead th {\n",
       "        text-align: right;\n",
       "    }\n",
       "</style>\n",
       "<table border=\"1\" class=\"dataframe\">\n",
       "  <thead>\n",
       "    <tr style=\"text-align: right;\">\n",
       "      <th></th>\n",
       "      <th>IDH em 2006</th>\n",
       "      <th>Bilionários em 2006</th>\n",
       "    </tr>\n",
       "  </thead>\n",
       "  <tbody>\n",
       "    <tr>\n",
       "      <th>IDH em 2006</th>\n",
       "      <td>1.000000</td>\n",
       "      <td>0.432685</td>\n",
       "    </tr>\n",
       "    <tr>\n",
       "      <th>Bilionários em 2006</th>\n",
       "      <td>0.432685</td>\n",
       "      <td>1.000000</td>\n",
       "    </tr>\n",
       "  </tbody>\n",
       "</table>\n",
       "</div>"
      ],
      "text/plain": [
       "                     IDH em 2006  Bilionários em 2006\n",
       "IDH em 2006             1.000000             0.432685\n",
       "Bilionários em 2006     0.432685             1.000000"
      ]
     },
     "execution_count": 633,
     "metadata": {},
     "output_type": "execute_result"
    }
   ],
   "source": [
    "print('A correlação entre o IDH em 2006 e o número de bilionários em 2006 é:', data['IDH em 2006'].corr(data['Bilionários em 2006']))\n",
    "data.loc[:,[\"IDH em 2006\", \"Bilionários em 2006\"]].corr()"
   ]
  },
  {
   "cell_type": "markdown",
   "metadata": {},
   "source": [
    "### Gráfico de dispersão sobre o número de bilionários em 2006 pela inflação em 2006 ###"
   ]
  },
  {
   "cell_type": "code",
   "execution_count": 634,
   "metadata": {},
   "outputs": [
    {
     "data": {
      "image/png": "[encoded data removed]",
      "text/plain": [
       "<Figure size 432x288 with 1 Axes>"
      ]
     },
     "metadata": {},
     "output_type": "display_data"
    }
   ],
   "source": [
    "data.plot.scatter(x='Inflação em 2006',y='Bilionários em 2006');\n",
    "sns.regplot(data[\"Inflação em 2006\"],data[\"Bilionários em 2006\"], color=('goldenrod'))\n",
    "plt.grid()\n"
   ]
  },
  {
   "cell_type": "markdown",
   "metadata": {},
   "source": [
    "#### Correlação entre o número de bilionários em 2006 pela inflação em 2006 ####"
   ]
  },
  {
   "cell_type": "code",
   "execution_count": 635,
   "metadata": {},
   "outputs": [
    {
     "name": "stdout",
     "output_type": "stream",
     "text": [
      "A correlação entre a inflação em 2006 e o número de bilionários em 2006 é: -0.012082259227734786\n"
     ]
    },
    {
     "data": {
      "text/html": [
       "<div>\n",
       "<style scoped>\n",
       "    .dataframe tbody tr th:only-of-type {\n",
       "        vertical-align: middle;\n",
       "    }\n",
       "\n",
       "    .dataframe tbody tr th {\n",
       "        vertical-align: top;\n",
       "    }\n",
       "\n",
       "    .dataframe thead th {\n",
       "        text-align: right;\n",
       "    }\n",
       "</style>\n",
       "<table border=\"1\" class=\"dataframe\">\n",
       "  <thead>\n",
       "    <tr style=\"text-align: right;\">\n",
       "      <th></th>\n",
       "      <th>Inflação em 2006</th>\n",
       "      <th>Bilionários em 2006</th>\n",
       "    </tr>\n",
       "  </thead>\n",
       "  <tbody>\n",
       "    <tr>\n",
       "      <th>Inflação em 2006</th>\n",
       "      <td>1.000000</td>\n",
       "      <td>-0.012082</td>\n",
       "    </tr>\n",
       "    <tr>\n",
       "      <th>Bilionários em 2006</th>\n",
       "      <td>-0.012082</td>\n",
       "      <td>1.000000</td>\n",
       "    </tr>\n",
       "  </tbody>\n",
       "</table>\n",
       "</div>"
      ],
      "text/plain": [
       "                     Inflação em 2006  Bilionários em 2006\n",
       "Inflação em 2006             1.000000            -0.012082\n",
       "Bilionários em 2006         -0.012082             1.000000"
      ]
     },
     "execution_count": 635,
     "metadata": {},
     "output_type": "execute_result"
    }
   ],
   "source": [
    "print('A correlação entre a inflação em 2006 e o número de bilionários em 2006 é:', data['Inflação em 2006'].corr(data['Bilionários em 2006']))\n",
    "data.loc[:,[\"Inflação em 2006\", \"Bilionários em 2006\"]].corr()"
   ]
  },
  {
   "cell_type": "markdown",
   "metadata": {},
   "source": [
    "### Análise ###\n",
    "\n",
    "A partir da análise dos dados de 2006 verifica-se que o comportamento foi muito parecido com o comportamento de 2007, como pode-se observar nos gráficos de dispersão e na correlação entre IDH, Inflação e número de bilionários a cada 1 milhão de habitantes. \n",
    "A correlação entre IDH e Inflação em 2007 foi igual a r=-0.47, enquanto em 2006 foi igual a r=-0.41. Já a correlação entre IDH e número de bilionários em 2007 foi igual a r=0.433, enquanto em 2006 foi igual r=0.432. E por fim, a correlação entre inflação e número de bilionários em 2007 foi igual a r=-0.15, enquanto em 2006 foi igual a r=-0.012, o qual sofreu mais alteração ao longo desse ano. "
   ]
  },
  {
   "cell_type": "markdown",
   "metadata": {},
   "source": [
    "# 2005 #"
   ]
  },
  {
   "cell_type": "markdown",
   "metadata": {},
   "source": [
    "### Dados ###"
   ]
  },
  {
   "cell_type": "code",
   "execution_count": 636,
   "metadata": {},
   "outputs": [],
   "source": [
    "IDH = pd.read_excel('hdi_human_development_index.xlsx')\n",
    "IDH = IDH.loc[:, [\"geo\", 2005]]\n",
    "IDH= IDH.rename(columns = {'geo':'País', 2005:'IDH em 2005'})\n",
    "inflation = pd.read_excel('inflation_annual_percent.xlsx')\n",
    "inflation = inflation.loc[:, [\"geo\", 2005]]\n",
    "inflation = inflation.rename(columns = {'geo':'País', 2005:'Inflação em 2005'})\n",
    "billionaires = pd.read_excel('dollar_billionaires.xlsx')\n",
    "billionaires = billionaires.loc[:, [\"geo\", 2005]]\n",
    "billionaires = billionaires.rename(columns = {'geo':'País', 2005:'Bilionários em 2005'})\n",
    "billionaires_sem0 = billionaires[billionaires[\"Bilionários em 2005\"] != 0]\n",
    "IDH_idx = IDH.set_index('País')\n",
    "inflation_idx = inflation.set_index('País')\n",
    "billionaires_idx=billionaires_sem0.set_index(\"País\")\n",
    "df = IDH_idx.join(inflation_idx, how='inner', lsuffix=' ', rsuffix=' ')\n",
    "data = df.join(billionaires_idx, how=\"inner\")"
   ]
  },
  {
   "cell_type": "markdown",
   "metadata": {},
   "source": [
    "### Gráfico de dispersão sobre a Inflação em 2005 pelo IDH em 2005###"
   ]
  },
  {
   "cell_type": "code",
   "execution_count": 637,
   "metadata": {},
   "outputs": [
    {
     "data": {
      "image/png": "[encoded data removed]",
      "text/plain": [
       "<Figure size 432x288 with 1 Axes>"
      ]
     },
     "metadata": {},
     "output_type": "display_data"
    }
   ],
   "source": [
    "data.plot.scatter(x='Inflação em 2005',y='IDH em 2005');\n",
    "sns.regplot(data[\"Inflação em 2005\"],data[\"IDH em 2005\"], color=('turquoise'))\n",
    "plt.grid()"
   ]
  },
  {
   "cell_type": "markdown",
   "metadata": {},
   "source": [
    "#### Correlação entre inflação em 2005 e IDH em 2005 ####"
   ]
  },
  {
   "cell_type": "code",
   "execution_count": 638,
   "metadata": {},
   "outputs": [
    {
     "name": "stdout",
     "output_type": "stream",
     "text": [
      "A correlação entre o IDH em 2005 e a inflação em 2005 é: -0.38656443981043387\n"
     ]
    },
    {
     "data": {
      "text/html": [
       "<div>\n",
       "<style scoped>\n",
       "    .dataframe tbody tr th:only-of-type {\n",
       "        vertical-align: middle;\n",
       "    }\n",
       "\n",
       "    .dataframe tbody tr th {\n",
       "        vertical-align: top;\n",
       "    }\n",
       "\n",
       "    .dataframe thead th {\n",
       "        text-align: right;\n",
       "    }\n",
       "</style>\n",
       "<table border=\"1\" class=\"dataframe\">\n",
       "  <thead>\n",
       "    <tr style=\"text-align: right;\">\n",
       "      <th></th>\n",
       "      <th>IDH em 2005</th>\n",
       "      <th>Inflação em 2005</th>\n",
       "    </tr>\n",
       "  </thead>\n",
       "  <tbody>\n",
       "    <tr>\n",
       "      <th>IDH em 2005</th>\n",
       "      <td>1.000000</td>\n",
       "      <td>-0.386564</td>\n",
       "    </tr>\n",
       "    <tr>\n",
       "      <th>Inflação em 2005</th>\n",
       "      <td>-0.386564</td>\n",
       "      <td>1.000000</td>\n",
       "    </tr>\n",
       "  </tbody>\n",
       "</table>\n",
       "</div>"
      ],
      "text/plain": [
       "                  IDH em 2005  Inflação em 2005\n",
       "IDH em 2005          1.000000         -0.386564\n",
       "Inflação em 2005    -0.386564          1.000000"
      ]
     },
     "execution_count": 638,
     "metadata": {},
     "output_type": "execute_result"
    }
   ],
   "source": [
    "print('A correlação entre o IDH em 2005 e a inflação em 2005 é:', data['IDH em 2005'].corr(data['Inflação em 2005']))\n",
    "data.loc[:,[\"IDH em 2005\", \"Inflação em 2005\"]].corr()"
   ]
  },
  {
   "cell_type": "markdown",
   "metadata": {},
   "source": [
    "### Gráfico de dispersão sobre o número de bilionários em 2005 pelo IDH em 2005 ###"
   ]
  },
  {
   "cell_type": "code",
   "execution_count": 639,
   "metadata": {},
   "outputs": [
    {
     "data": {
      "image/png": "[encoded data removed]",
      "text/plain": [
       "<Figure size 432x288 with 1 Axes>"
      ]
     },
     "metadata": {},
     "output_type": "display_data"
    }
   ],
   "source": [
    "data.plot.scatter(x=\"Bilionários em 2005\",y='IDH em 2005');\n",
    "sns.regplot(data[\"Bilionários em 2005\"],data[\"IDH em 2005\"], color=('indigo'))\n",
    "plt.grid()"
   ]
  },
  {
   "cell_type": "markdown",
   "metadata": {},
   "source": [
    "#### Correlação entre o número de bilionários em 2005 pelo IDH em 2005 ####"
   ]
  },
  {
   "cell_type": "code",
   "execution_count": 640,
   "metadata": {},
   "outputs": [
    {
     "name": "stdout",
     "output_type": "stream",
     "text": [
      "A correlação entre o IDH em 2005 e o número de bilionários em 2005 é: 0.19511030268586257\n"
     ]
    },
    {
     "data": {
      "text/html": [
       "<div>\n",
       "<style scoped>\n",
       "    .dataframe tbody tr th:only-of-type {\n",
       "        vertical-align: middle;\n",
       "    }\n",
       "\n",
       "    .dataframe tbody tr th {\n",
       "        vertical-align: top;\n",
       "    }\n",
       "\n",
       "    .dataframe thead th {\n",
       "        text-align: right;\n",
       "    }\n",
       "</style>\n",
       "<table border=\"1\" class=\"dataframe\">\n",
       "  <thead>\n",
       "    <tr style=\"text-align: right;\">\n",
       "      <th></th>\n",
       "      <th>IDH em 2005</th>\n",
       "      <th>Bilionários em 2005</th>\n",
       "    </tr>\n",
       "  </thead>\n",
       "  <tbody>\n",
       "    <tr>\n",
       "      <th>IDH em 2005</th>\n",
       "      <td>1.00000</td>\n",
       "      <td>0.19511</td>\n",
       "    </tr>\n",
       "    <tr>\n",
       "      <th>Bilionários em 2005</th>\n",
       "      <td>0.19511</td>\n",
       "      <td>1.00000</td>\n",
       "    </tr>\n",
       "  </tbody>\n",
       "</table>\n",
       "</div>"
      ],
      "text/plain": [
       "                     IDH em 2005  Bilionários em 2005\n",
       "IDH em 2005              1.00000              0.19511\n",
       "Bilionários em 2005      0.19511              1.00000"
      ]
     },
     "execution_count": 640,
     "metadata": {},
     "output_type": "execute_result"
    }
   ],
   "source": [
    "print('A correlação entre o IDH em 2005 e o número de bilionários em 2005 é:', data['IDH em 2005'].corr(data['Bilionários em 2005']))\n",
    "data.loc[:,[\"IDH em 2005\", \"Bilionários em 2005\"]].corr()"
   ]
  },
  {
   "cell_type": "markdown",
   "metadata": {},
   "source": [
    "### Gráfico de dispersão sobre a Inflação em 2005 pelo número de bilionários em 2005 ###"
   ]
  },
  {
   "cell_type": "code",
   "execution_count": 641,
   "metadata": {},
   "outputs": [
    {
     "data": {
      "image/png": "[encoded data removed]",
      "text/plain": [
       "<Figure size 432x288 with 1 Axes>"
      ]
     },
     "metadata": {},
     "output_type": "display_data"
    }
   ],
   "source": [
    "data.plot.scatter(x='Inflação em 2005',y='Bilionários em 2005');\n",
    "sns.regplot(data[\"Inflação em 2005\"],data[\"Bilionários em 2005\"], color=('goldenrod'))\n",
    "plt.grid()\n"
   ]
  },
  {
   "cell_type": "markdown",
   "metadata": {},
   "source": [
    "#### Correlação entre inflação em 2005 e número de bilionários em 2005 ####"
   ]
  },
  {
   "cell_type": "code",
   "execution_count": 642,
   "metadata": {},
   "outputs": [
    {
     "name": "stdout",
     "output_type": "stream",
     "text": [
      "A correlação entre a inflação em 2005 e o número de bilionários em 2005 é: -0.13592400819945924\n"
     ]
    },
    {
     "data": {
      "text/html": [
       "<div>\n",
       "<style scoped>\n",
       "    .dataframe tbody tr th:only-of-type {\n",
       "        vertical-align: middle;\n",
       "    }\n",
       "\n",
       "    .dataframe tbody tr th {\n",
       "        vertical-align: top;\n",
       "    }\n",
       "\n",
       "    .dataframe thead th {\n",
       "        text-align: right;\n",
       "    }\n",
       "</style>\n",
       "<table border=\"1\" class=\"dataframe\">\n",
       "  <thead>\n",
       "    <tr style=\"text-align: right;\">\n",
       "      <th></th>\n",
       "      <th>Inflação em 2005</th>\n",
       "      <th>Bilionários em 2005</th>\n",
       "    </tr>\n",
       "  </thead>\n",
       "  <tbody>\n",
       "    <tr>\n",
       "      <th>Inflação em 2005</th>\n",
       "      <td>1.000000</td>\n",
       "      <td>-0.135924</td>\n",
       "    </tr>\n",
       "    <tr>\n",
       "      <th>Bilionários em 2005</th>\n",
       "      <td>-0.135924</td>\n",
       "      <td>1.000000</td>\n",
       "    </tr>\n",
       "  </tbody>\n",
       "</table>\n",
       "</div>"
      ],
      "text/plain": [
       "                     Inflação em 2005  Bilionários em 2005\n",
       "Inflação em 2005             1.000000            -0.135924\n",
       "Bilionários em 2005         -0.135924             1.000000"
      ]
     },
     "execution_count": 642,
     "metadata": {},
     "output_type": "execute_result"
    }
   ],
   "source": [
    "print('A correlação entre a inflação em 2005 e o número de bilionários em 2005 é:', data['Inflação em 2005'].corr(data['Bilionários em 2005']))\n",
    "data.loc[:,[\"Inflação em 2005\", \"Bilionários em 2005\"]].corr()"
   ]
  },
  {
   "cell_type": "markdown",
   "metadata": {},
   "source": [
    "### Análise ###\n",
    "\n",
    "A partir da análise dos dados de 2005 verifica-se que o comportamento foi muito parecido com o comportamento de 2007 e 2006, como pode-se observar nos gráficos de dispersão e na correlação entre IDH, Inflação e número de bilionários a cada 1 milhão de habitantes. Apenas houve mudança de comportamento do IDH pelo número de bilionários em 2007 e 2006. Uma explicação possível seria outliers destoando o coeficiente de correlação.  \n",
    "A correlação entre IDH e Inflação em 2007 foi igual a r=-0.47, em 2006 foi igual a r=-0.41, enquanto em 2007 foi igual a r=-0.38. Já a correlação entre IDH e número de bilionários em 2007 foi igual a r=0.433, em 2006 foi igual r=0.432 e em 2005 foi igual a r=0.19. E por fim, a correlação entre inflação e número de bilionários em 2007 foi igual a r=-0.15, em 2006 foi igual a r=-0.012, enquanto em 2005 foi igual a r=-0.13"
   ]
  },
  {
   "cell_type": "markdown",
   "metadata": {},
   "source": [
    "# Conclusão \n",
    "\n",
    "** Pergunta: ** A inflação e o número de bilionários tem influência ou não no IDH de um país?\n",
    "\n",
    "A partir dos dados aqui apresentados pode-se concluir que a inflação influencia sim no IDH de um país, mas não com tanta proporção como é comum pensar. Ademais, o IDH também tem influência sobre o número de bilionários em um país, mas também não é um fator determinante e nem tão significante quanto as pessoas pensam. Por fim, foi possível concluir que não existe muita correlação entre inflação e número de bilionários em um país, novamente indo contra ao que a maioria das pessoas pensam em relação a isso. \n",
    "\n",
    "Estas observações nos levam a questionar o porquê de em 2005 a correlação entre IDH e número de bilionários ter sido bem mais baixa do que em outros anos. Isso pode ser investigado em trabalhos futuros."
   ]
  }
 ],
 "metadata": {
  "kernelspec": {
   "display_name": "Python 3",
   "language": "python",
   "name": "python3"
  },
  "language_info": {
   "codemirror_mode": {
    "name": "ipython",
    "version": 3
   },
   "file_extension": ".py",
   "mimetype": "text/x-python",
   "name": "python",
   "nbconvert_exporter": "python",
   "pygments_lexer": "ipython3",
   "version": "3.6.5"
  }
 },
 "nbformat": 4,
 "nbformat_minor": 2
}
